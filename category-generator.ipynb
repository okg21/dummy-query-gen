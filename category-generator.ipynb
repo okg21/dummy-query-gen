{
 "cells": [
  {
   "cell_type": "code",
   "execution_count": 1,
   "metadata": {},
   "outputs": [
    {
     "data": {
      "text/plain": [
       "147"
      ]
     },
     "execution_count": 1,
     "metadata": {},
     "output_type": "execute_result"
    }
   ],
   "source": [
    "import pandas as pd\n",
    "\n",
    "df = pd.read_csv('data/trends.csv')\n",
    "\n",
    "# select distinct category from English speaking countries\n",
    "df = df[df['location'].isin(['United Kingdom', 'Scotland', 'Australia', 'Ireland', 'New Zealand', 'Wales'])]\n",
    "df = df[['category']].drop_duplicates()\n",
    "\n",
    "# count the number of categories\n",
    "df.size"
   ]
  },
  {
   "cell_type": "code",
   "execution_count": 2,
   "metadata": {},
   "outputs": [
    {
     "data": {
      "text/plain": [
       "100000"
      ]
     },
     "execution_count": 2,
     "metadata": {},
     "output_type": "execute_result"
    }
   ],
   "source": [
    "df_wiki = pd.read_csv('data/children_cats.csv')\n",
    "df_wiki = df_wiki.head(100000)\n",
    "\n",
    "df_wiki['category'] = df_wiki.iloc[:, 0]\n",
    "df_wiki = df_wiki[['category']].drop_duplicates()\n",
    "\n",
    "df_wiki['category'] = df_wiki['category'].str.replace('_', ' ')\n",
    "\n",
    "# shuffle\n",
    "df_wiki = df_wiki.sample(frac=1).reset_index(drop=True)\n",
    "\n",
    "# count the number of categories\n",
    "df_wiki.size\n"
   ]
  },
  {
   "cell_type": "code",
   "execution_count": 3,
   "metadata": {},
   "outputs": [
    {
     "name": "stderr",
     "output_type": "stream",
     "text": [
      "/home/ebk/anaconda3/envs/irs_proj/lib/python3.11/site-packages/tqdm/auto.py:21: TqdmWarning: IProgress not found. Please update jupyter and ipywidgets. See https://ipywidgets.readthedocs.io/en/stable/user_install.html\n",
      "  from .autonotebook import tqdm as notebook_tqdm\n",
      "/home/ebk/anaconda3/envs/irs_proj/lib/python3.11/site-packages/torch/cuda/__init__.py:129: UserWarning: CUDA initialization: CUDA unknown error - this may be due to an incorrectly set up environment, e.g. changing env variable CUDA_VISIBLE_DEVICES after program start. Setting the available devices to be zero. (Triggered internally at /opt/conda/conda-bld/pytorch_1729647348947/work/c10/cuda/CUDAFunctions.cpp:108.)\n",
      "  return torch._C._cuda_getDeviceCount() > 0\n",
      "Processing batches: 100%|███████████████████████| 98/98 [09:57<00:00,  6.09s/it]\n"
     ]
    }
   ],
   "source": [
    "# TODO: Too long to run, also do we need it?\n",
    "from transformers import BertTokenizer, BertModel\n",
    "import torch  \n",
    "from tqdm import tqdm  \n",
    "\n",
    "# Initialize BERT tokenizer and model\n",
    "tokenizer = BertTokenizer.from_pretrained('bert-base-uncased')\n",
    "model = BertModel.from_pretrained('bert-base-uncased')\n",
    "\n",
    "import numpy as np  # Ensure numpy is imported\n",
    "\n",
    "device = torch.device('cuda' if torch.cuda.is_available() else 'cpu')\n",
    "model.to(device)\n",
    "\n",
    "batch_size = 1024  # Set your desired batch size\n",
    "mean_embeddings_np = np.empty((0, 768))  # Initialize an empty array for embeddings\n",
    "\n",
    "# Process the data in batches\n",
    "for i in tqdm(range(0, len(df_wiki), batch_size), desc=\"Processing batches\"):  # Wrap the range with tqdm\n",
    "    batch_df = df_wiki.iloc[i:i + batch_size]\n",
    "\n",
    "    # Tokenize and encode the texts\n",
    "    tokens = tokenizer(batch_df['category'].tolist(), return_tensors='pt', padding=True, truncation=True, max_length=512)\n",
    "    tokens = {key: val.to(device) for key, val in tokens.items()}\n",
    "\n",
    "    # Forward pass, get hidden states\n",
    "    with torch.no_grad():\n",
    "        outputs = model(**tokens)\n",
    "\n",
    "    # Take the output embeddings from the last layer\n",
    "    last_hidden_states = outputs.last_hidden_state\n",
    "\n",
    "    # Pooling strategy: Take the mean of all token embeddings\n",
    "    mean_embeddings = torch.mean(last_hidden_states, dim=1)\n",
    "\n",
    "    # Convert the tensor to a numpy array and append to the mean_embeddings_np\n",
    "    mean_embeddings_np = np.append(mean_embeddings_np, mean_embeddings.cpu().numpy(), axis=0)\n",
    "\n",
    "# Assign the embeddings back to the DataFrame\n",
    "df_wiki['embedding'] = list(mean_embeddings_np)"
   ]
  },
  {
   "cell_type": "code",
   "execution_count": 4,
   "metadata": {},
   "outputs": [
    {
     "data": {
      "text/html": [
       "<div>\n",
       "<style scoped>\n",
       "    .dataframe tbody tr th:only-of-type {\n",
       "        vertical-align: middle;\n",
       "    }\n",
       "\n",
       "    .dataframe tbody tr th {\n",
       "        vertical-align: top;\n",
       "    }\n",
       "\n",
       "    .dataframe thead th {\n",
       "        text-align: right;\n",
       "    }\n",
       "</style>\n",
       "<table border=\"1\" class=\"dataframe\">\n",
       "  <thead>\n",
       "    <tr style=\"text-align: right;\">\n",
       "      <th></th>\n",
       "      <th>category</th>\n",
       "    </tr>\n",
       "  </thead>\n",
       "  <tbody>\n",
       "    <tr>\n",
       "      <th>155</th>\n",
       "      <td>Men</td>\n",
       "    </tr>\n",
       "    <tr>\n",
       "      <th>160</th>\n",
       "      <td>Searches</td>\n",
       "    </tr>\n",
       "    <tr>\n",
       "      <th>165</th>\n",
       "      <td>Women</td>\n",
       "    </tr>\n",
       "    <tr>\n",
       "      <th>205</th>\n",
       "      <td>Popular Movies</td>\n",
       "    </tr>\n",
       "    <tr>\n",
       "      <th>210</th>\n",
       "      <td>Popular Queries</td>\n",
       "    </tr>\n",
       "    <tr>\n",
       "      <th>...</th>\n",
       "      <td>...</td>\n",
       "    </tr>\n",
       "    <tr>\n",
       "      <th>26640</th>\n",
       "      <td>DIY</td>\n",
       "    </tr>\n",
       "    <tr>\n",
       "      <th>26645</th>\n",
       "      <td>Fitness</td>\n",
       "    </tr>\n",
       "    <tr>\n",
       "      <th>26655</th>\n",
       "      <td>Lyrics</td>\n",
       "    </tr>\n",
       "    <tr>\n",
       "      <th>26690</th>\n",
       "      <td>When...?</td>\n",
       "    </tr>\n",
       "    <tr>\n",
       "      <th>26695</th>\n",
       "      <td>Who...?</td>\n",
       "    </tr>\n",
       "  </tbody>\n",
       "</table>\n",
       "<p>147 rows × 1 columns</p>\n",
       "</div>"
      ],
      "text/plain": [
       "              category\n",
       "155                Men\n",
       "160           Searches\n",
       "165              Women\n",
       "205     Popular Movies\n",
       "210    Popular Queries\n",
       "...                ...\n",
       "26640              DIY\n",
       "26645          Fitness\n",
       "26655           Lyrics\n",
       "26690         When...?\n",
       "26695          Who...?\n",
       "\n",
       "[147 rows x 1 columns]"
      ]
     },
     "execution_count": 4,
     "metadata": {},
     "output_type": "execute_result"
    }
   ],
   "source": [
    "df"
   ]
  },
  {
   "cell_type": "code",
   "execution_count": 5,
   "metadata": {},
   "outputs": [],
   "source": [
    "df_wiki.to_csv('data/wiki_categories.csv_100k', index=False)"
   ]
  },
  {
   "cell_type": "code",
   "execution_count": null,
   "metadata": {},
   "outputs": [],
   "source": [
    "df.to_csv('data/google_trends.csv', index=False)"
   ]
  }
 ],
 "metadata": {
  "kernelspec": {
   "display_name": "Python 3 (ipykernel)",
   "language": "python",
   "name": "python3"
  },
  "language_info": {
   "codemirror_mode": {
    "name": "ipython",
    "version": 3
   },
   "file_extension": ".py",
   "mimetype": "text/x-python",
   "name": "python",
   "nbconvert_exporter": "python",
   "pygments_lexer": "ipython3",
   "version": "3.11.11"
  }
 },
 "nbformat": 4,
 "nbformat_minor": 4
}
