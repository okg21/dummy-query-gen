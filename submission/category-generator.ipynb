{
 "cells": [
  {
   "cell_type": "code",
   "execution_count": null,
   "metadata": {},
   "outputs": [],
   "source": [
    "import pandas as pd\n",
    "\n",
    "df = pd.read_csv('data/trends.csv')\n",
    "\n",
    "df = df[df['location'].isin(['United Kingdom', 'Scotland', 'Australia', 'Ireland', 'New Zealand', 'Wales'])]\n",
    "df = df[['category']].drop_duplicates()\n",
    "\n",
    "df.size"
   ]
  },
  {
   "cell_type": "code",
   "execution_count": null,
   "metadata": {},
   "outputs": [],
   "source": [
    "df_wiki = pd.read_csv('data/children_cats.csv')\n",
    "df_wiki = df_wiki.head(100000)\n",
    "\n",
    "df_wiki['category'] = df_wiki.iloc[:, 0]\n",
    "df_wiki = df_wiki[['category']].drop_duplicates()\n",
    "\n",
    "df_wiki['category'] = df_wiki['category'].str.replace('_', ' ')\n",
    "\n",
    "df_wiki = df_wiki.sample(frac=1).reset_index(drop=True)\n",
    "\n",
    "df_wiki.size"
   ]
  },
  {
   "cell_type": "code",
   "execution_count": null,
   "metadata": {},
   "outputs": [],
   "source": [
    "from transformers import BertTokenizer, BertModel\n",
    "import torch  \n",
    "from tqdm import tqdm  \n",
    "\n",
    "tokenizer = BertTokenizer.from_pretrained('bert-base-uncased')\n",
    "model = BertModel.from_pretrained('bert-base-uncased')\n",
    "\n",
    "import numpy as np\n",
    "\n",
    "device = torch.device('cuda' if torch.cuda.is_available() else 'cpu')\n",
    "model.to(device)\n",
    "\n",
    "batch_size = 1024\n",
    "mean_embeddings_np = np.empty((0, 768))\n",
    "\n",
    "for i in tqdm(range(0, len(df_wiki), batch_size), desc=\"Processing batches\"):\n",
    "    batch_df = df_wiki.iloc[i:i + batch_size]\n",
    "\n",
    "    tokens = tokenizer(batch_df['category'].tolist(), return_tensors='pt', padding=True, truncation=True, max_length=512)\n",
    "    tokens = {key: val.to(device) for key, val in tokens.items()}\n",
    "\n",
    "    with torch.no_grad():\n",
    "        outputs = model(**tokens)\n",
    "\n",
    "    last_hidden_states = outputs.last_hidden_state\n",
    "    mean_embeddings = torch.mean(last_hidden_states, dim=1)\n",
    "    mean_embeddings_np = np.append(mean_embeddings_np, mean_embeddings.cpu().numpy(), axis=0)\n",
    "\n",
    "df_wiki['embedding'] = list(mean_embeddings_np)"
   ]
  },
  {
   "cell_type": "code",
   "execution_count": null,
   "metadata": {},
   "outputs": [],
   "source": [
    "df"
   ]
  },
  {
   "cell_type": "code",
   "execution_count": null,
   "metadata": {},
   "outputs": [],
   "source": [
    "df_wiki.to_csv('data/wiki_categories.csv_100k', index=False)"
   ]
  },
  {
   "cell_type": "code",
   "execution_count": null,
   "metadata": {},
   "outputs": [],
   "source": [
    "df.to_csv('data/google_trends.csv', index=False)"
   ]
  }
 ],
 "metadata": {
  "kernelspec": {
   "display_name": "Python 3 (ipykernel)",
   "language": "python",
   "name": "python3"
  },
  "language_info": {
   "codemirror_mode": {
    "name": "ipython",
    "version": 3
   },
   "file_extension": ".py",
   "mimetype": "text/x-python",
   "name": "python",
   "nbconvert_exporter": "python",
   "pygments_lexer": "ipython3",
   "version": "3.11.11"
  }
 },
 "nbformat": 4,
 "nbformat_minor": 4
}
